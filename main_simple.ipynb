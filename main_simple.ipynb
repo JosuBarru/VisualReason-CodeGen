{
 "cells": [
  {
   "cell_type": "markdown",
   "id": "8803efa6-682e-4525-a5ab-511fda091cbb",
   "metadata": {
    "pycharm": {
     "name": "#%% md\n"
    },
    "tags": []
   },
   "source": [
    "# ViperGPT -- Quick Start\n",
    "\n",
    "This notebook is meant to be a quick entry into ViperGPT. **Warning:** This notebook will execute arbitrary code on your machine. Proceed at your own risk.\n",
    "\n",
    "Before running this code, modify any parameters at `configs/my_config.yaml`. For example, you may want to change the BLIP model (`blip_v2_model_type`) from XXL to XL if your GPU does not have enough memory."
   ]
  },
  {
   "cell_type": "code",
   "execution_count": null,
   "id": "c38a2623-4220-41ea-a1cb-a95ad2e41d83",
   "metadata": {
    "pycharm": {
     "name": "#%%\n"
    },
    "tags": []
   },
   "outputs": [],
   "source": [
    "from main_simple_lib import *"
   ]
  },
  {
   "cell_type": "code",
   "execution_count": null,
   "metadata": {
    "collapsed": false,
    "pycharm": {
     "name": "#%%\n"
    }
   },
   "outputs": [],
   "source": [
    "im = load_image('https://wondermamas.com/wp-content/uploads/2020/04/IMG_8950-min-1024x1024.jpg')\n",
    "query = 'how many muffins can each kid eat for it to be fair?'\n",
    "\n",
    "show_single_image(im)\n",
    "code = get_code(query)"
   ]
  },
  {
   "cell_type": "code",
   "execution_count": null,
   "metadata": {
    "collapsed": false,
    "pycharm": {
     "name": "#%%\n"
    }
   },
   "outputs": [],
   "source": [
    "execute_code(code, im, show_intermediate_steps=True)"
   ]
  },
  {
   "cell_type": "code",
   "execution_count": null,
   "id": "058705ad",
   "metadata": {},
   "outputs": [],
   "source": []
  }
 ],
 "metadata": {
  "kernelspec": {
   "display_name": "viper",
   "language": "python",
   "name": "python3"
  },
  "language_info": {
   "codemirror_mode": {
    "name": "ipython",
    "version": 3
   },
   "file_extension": ".py",
   "mimetype": "text/x-python",
   "name": "python",
   "nbconvert_exporter": "python",
   "pygments_lexer": "ipython3",
   "version": "3.10.9"
  },
  "vscode": {
   "interpreter": {
    "hash": "3bbf5833f6031e7eb9f1fcd40cf51c4ab635739e0d954109c2685ec8f3ebda4f"
   }
  }
 },
 "nbformat": 4,
 "nbformat_minor": 5
}
